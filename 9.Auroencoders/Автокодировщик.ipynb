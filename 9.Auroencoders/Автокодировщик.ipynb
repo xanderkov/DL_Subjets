{
 "cells": [
  {
   "cell_type": "code",
   "execution_count": 1,
   "metadata": {},
   "outputs": [],
   "source": [
    "from tensorflow.keras.models import Model, Sequential\n",
    "from tensorflow.keras.layers import Dense, Flatten, Reshape, Input, Conv2DTranspose, concatenate, Activation, MaxPooling2D, Conv2D, BatchNormalization\n",
    "from tensorflow.keras import backend as K\n",
    "from tensorflow.keras.optimizers import Adam\n",
    "from tensorflow.keras import utils\n",
    "from tensorflow.keras.datasets import mnist, fashion_mnist\n",
    "from tensorflow.keras.callbacks import LambdaCallback\n",
    "import matplotlib.pyplot as plt\n",
    "from tensorflow.keras.preprocessing import image\n",
    "import numpy as np\n",
    "import pandas as pd\n",
    "from PIL import Image\n",
    "from sklearn.model_selection import train_test_split\n",
    "from sklearn.preprocessing import StandardScaler\n",
    "import os\n",
    "import time, random\n",
    "import seaborn as sns\n",
    "sns.set_style('darkgrid')"
   ]
  },
  {
   "cell_type": "code",
   "execution_count": 2,
   "metadata": {},
   "outputs": [],
   "source": [
    "def baseAutoencoder(shape=(112,80,1)):\n",
    "    img_input = Input((shape))\n",
    "\n",
    "    x = Conv2D(32, (3, 3), padding='same', activation='relu')(img_input)\n",
    "    x = BatchNormalization()(x) \n",
    "    x = Conv2D(32, (3, 3), padding='same', activation='relu')(x)\n",
    "    x = BatchNormalization()(x)\n",
    "    x = MaxPooling2D()(x) # передаём на слой подвыборки, снижающий размерность поступивших на него данных\n",
    "\n",
    "    x = Conv2D(64, (3, 3), padding='same', activation='relu')(x) # передаем на слой двумерной свёртки\n",
    "    x = BatchNormalization()(x) # пропускаем через слой нормализации данных \n",
    "    x = Conv2D(64, (3, 3), padding='same', activation='relu')(x)  # далее снова слой двумерной свёртки\n",
    "    x = BatchNormalization()(x) # и еще слой нормализации данных\n",
    "    z = MaxPooling2D()(x) # передаём на слой подвыборки\n",
    "    \n",
    "\n",
    "    x = Conv2DTranspose(64, (2, 2), strides=(2, 2), padding='same', activation='relu')(z) # слой разжимает данные(с 28*20 на 56*40)\n",
    "    x = BatchNormalization()(x) # слой нормализации данных\n",
    "    \n",
    "    x = Conv2D(64, (3, 3), padding='same', activation='relu')(x) # передаем на слой двумерной свёртки\n",
    "    x = BatchNormalization()(x) # слой нормализации данных\n",
    "    x = Conv2D(64, (3, 3), padding='same', activation='relu')(x) # ещё слой двумерной свёртки\n",
    "    x = BatchNormalization()(x) # слой нормализации данных\n",
    "    # Сжатие MaxPooling2D не применяем\n",
    "\n",
    "    x = Conv2DTranspose(32, (2, 2), strides=(2, 2), padding='same', activation='relu')(x) # слой разжимает данные(с 56*40 на 112*80)\n",
    "    x = BatchNormalization()(x) # слой нормализации данных\n",
    "    x = Conv2D(32, (3, 3), padding='same', activation='relu')(x) # передаем на слой двумерной свёртки\n",
    "    x = BatchNormalization()(x) # слой нормализации данных\n",
    "    x = Conv2D(32, (3, 3), padding='same', activation='relu')(x) # ещё слой двумерной свёртки\n",
    "    x = BatchNormalization()(x) # слой нормализации данных\n",
    "\n",
    "    # Финальный слой двумерной свертки, выдающий итоговое изображение\n",
    "    x = Conv2D(shape[-1], (3, 3), activation='sigmoid', padding='same')(x)\n",
    "\n",
    "    model = Model(img_input, x) # указываем модель, с оригинальным изображением на входе в сеть и сжатым-разжатым на выходе из сети\n",
    "    model.compile(optimizer=Adam(lr=0.0001), loss='mean_squared_error') # компилируем модель с оптимайзером Адам и среднеквадратичной ошибкой\n",
    "\n",
    "    return model"
   ]
  },
  {
   "cell_type": "code",
   "execution_count": 3,
   "metadata": {},
   "outputs": [],
   "source": [
    "def plotImages(xTrain, pred, shape=(112, 80)): # создадим функцию для вывода изображений как картинок\n",
    "  n = 5  # количество картинок, которые хотим показать\n",
    "  plt.figure(figsize=(14, 7)) # указываем размеры фигуры\n",
    "  for i in range(n): # для каждой картинки из n(5)\n",
    "      index = np.random.randint(0, pred.shape[0]) # startIndex - начиная с какого индекса хотим заплотить картинки\n",
    "      # Показываем картинки из тестового набора\n",
    "      ax = plt.subplot(2, n, i + 1) # выведем область рисования Axes\n",
    "      plt.imshow(xTrain[index].reshape(shape)) # отрисуем правильные картинки в размере 112*80      \n",
    "      plt.gray() # выведем в черно-белом цвете\n",
    "      ax.get_xaxis().set_visible(False) # скрываем вывод координатной оси x\n",
    "      ax.get_yaxis().set_visible(False) # скрываем вывод координатной оси y\n",
    "\n",
    "      # Показываем восстановленные картинки\n",
    "      ax = plt.subplot(2, n, i + 1 + n) # выведем область рисования Axes \n",
    "      plt.imshow(pred[index].reshape(shape)) # отрисуем обработанные сеткой картинки в размере 112*80     \n",
    "      plt.gray() # выведем в черно-белом цвете\n",
    "      ax.get_xaxis().set_visible(False) # скрываем вывод координатной оси x\n",
    "      ax.get_yaxis().set_visible(False) # скрываем вывод координатной оси y\n",
    "  plt.show()"
   ]
  },
  {
   "cell_type": "code",
   "execution_count": 4,
   "metadata": {},
   "outputs": [],
   "source": [
    "# Функция для расчета mse\n",
    "def getMSE(x1, x2): # создадим функцию среднеквадратичной ошибки\n",
    "  x1 = x1.flatten() # сплющиваем в одномерный вектор\n",
    "  x2 = x2.flatten() # сплющиваем в одномерный вектор\n",
    "  delta = x1 - x2 # находим разницу\n",
    "  return sum(delta ** 2) / len(delta) # и возвращаем сумму квадратов разницы, делённую на длину разницы"
   ]
  },
  {
   "cell_type": "code",
   "execution_count": 5,
   "metadata": {},
   "outputs": [
    {
     "name": "stdout",
     "output_type": "stream",
     "text": [
      "0.0\n"
     ]
    }
   ],
   "source": [
    "# Зададим пару массивов и проверим работу функции\n",
    "x1 = np.array([1, 1, 1]) # создаем первый массив\n",
    "x2 = np.array([1, 1, 1]) # создаем второй массив\n",
    "print(getMSE(x1,x2)) # выведем ошибку полученную нашей функцией"
   ]
  },
  {
   "cell_type": "code",
   "execution_count": 6,
   "metadata": {},
   "outputs": [
    {
     "name": "stdout",
     "output_type": "stream",
     "text": [
      "0.5\n"
     ]
    }
   ],
   "source": [
    "# Зададим пару массивов и проверим работу функции\n",
    "x1 = np.array([1, 1, 1, 1]) # создаем первый массив\n",
    "x2 = np.array([1, 1, 0, 0]) # создаем второй массив\n",
    "print(getMSE(x1,x2)) # выведем ошибку полученную нашей функцией"
   ]
  },
  {
   "cell_type": "code",
   "execution_count": 7,
   "metadata": {},
   "outputs": [
    {
     "name": "stdout",
     "output_type": "stream",
     "text": [
      "Downloading data from https://storage.googleapis.com/tensorflow/tf-keras-datasets/train-labels-idx1-ubyte.gz\n",
      "32768/29515 [=================================] - 0s 1us/step\n",
      "40960/29515 [=========================================] - 0s 1us/step\n",
      "Downloading data from https://storage.googleapis.com/tensorflow/tf-keras-datasets/train-images-idx3-ubyte.gz\n",
      "26427392/26421880 [==============================] - 1s 0us/step\n",
      "26435584/26421880 [==============================] - 1s 0us/step\n",
      "Downloading data from https://storage.googleapis.com/tensorflow/tf-keras-datasets/t10k-labels-idx1-ubyte.gz\n",
      "16384/5148 [===============================================================================================] - 0s 0s/step\n",
      "Downloading data from https://storage.googleapis.com/tensorflow/tf-keras-datasets/t10k-images-idx3-ubyte.gz\n",
      "4423680/4422102 [==============================] - 0s 0us/step\n",
      "4431872/4422102 [==============================] - 0s 0us/step\n"
     ]
    }
   ],
   "source": [
    "# Загрузим данные из fashion_mnist - базы с одеждой,обувью и т.п\n",
    "(xTrainMnistF, yTrainMnistF), (xTestMnistF, yTestMnistF) = fashion_mnist.load_data()\n",
    "xTrainMnistF = xTrainMnistF.astype('float32')/255 # представляем в виде значений от 0 до 1\n",
    "xTrainMnistF = xTrainMnistF.reshape(xTrainMnistF.shape[0], 28, 28, 1) # меняем форму, приводим к нужным нам размера"
   ]
  },
  {
   "cell_type": "code",
   "execution_count": 9,
   "metadata": {},
   "outputs": [
    {
     "data": {
      "image/png": "[encoded data removed]",
      "text/plain": [
       "<Figure size 432x288 with 1 Axes>"
      ]
     },
     "metadata": {},
     "output_type": "display_data"
    }
   ],
   "source": [
    "# Взглянем на пример изображения из базы fashion_mnist\n",
    "n = 169 # выбираем картинку\n",
    "plt.imshow(xTrainMnistF[n].reshape((28,28)), cmap='gray') # переводим в 4х-канальное цветовое пространство RGBA\n",
    "plt.show() # покажем картинку"
   ]
  },
  {
   "cell_type": "code",
   "execution_count": 11,
   "metadata": {},
   "outputs": [
    {
     "name": "stderr",
     "output_type": "stream",
     "text": [
      "C:\\Users\\xande\\AppData\\Local\\Programs\\Python\\Python39\\lib\\site-packages\\keras\\optimizer_v2\\optimizer_v2.py:355: UserWarning: The `lr` argument is deprecated, use `learning_rate` instead.\n",
      "  warnings.warn(\n"
     ]
    }
   ],
   "source": [
    "modelAutoMnist = baseAutoencoder((28,28,1)) # создаем автокодировщик"
   ]
  },
  {
   "cell_type": "code",
   "execution_count": 15,
   "metadata": {},
   "outputs": [
    {
     "name": "stdout",
     "output_type": "stream",
     "text": [
      "Downloading data from https://storage.googleapis.com/tensorflow/tf-keras-datasets/mnist.npz\n",
      "11493376/11490434 [==============================] - 1s 0us/step\n",
      "11501568/11490434 [==============================] - 1s 0us/step\n"
     ]
    }
   ],
   "source": [
    "(xTrainMnist, yTrainMnist), (xTestMnist, yTestMnist) = mnist.load_data() # загружаем данные из базы с разбивкой на train/test\n",
    "xTrainMnist = xTrainMnist.astype('float32')/255 # представляем в виде значений от 0 до 1\n",
    "xTrainMnist = xTrainMnist.reshape(-1, 28, 28, 1) # меняем форму, приводим к нужным нам размерам\n",
    "xTestMnist = xTestMnist.astype('float32')/255 # представляем в виде значений от 0 до 1\n",
    "xTestMnist = xTestMnist.reshape(-1, 28, 28, 1) # меняем форму, приводим к нужным нам размерам"
   ]
  },
  {
   "cell_type": "code",
   "execution_count": 16,
   "metadata": {},
   "outputs": [
    {
     "data": {
      "text/plain": [
       "(60000, 28, 28, 1)"
      ]
     },
     "execution_count": 16,
     "metadata": {},
     "output_type": "execute_result"
    }
   ],
   "source": [
    "xTrainMnist.shape # Отобразим размерность массива xTrainMnist"
   ]
  },
  {
   "cell_type": "code",
   "execution_count": 18,
   "metadata": {},
   "outputs": [
    {
     "name": "stdout",
     "output_type": "stream",
     "text": [
      "Epoch 1/100\n",
      "235/235 [==============================] - 12s 44ms/step - loss: 0.0678 - val_loss: 0.0971\n",
      "Epoch 2/100\n",
      "235/235 [==============================] - 10s 41ms/step - loss: 0.0142 - val_loss: 0.0141\n",
      "Epoch 3/100\n",
      "235/235 [==============================] - 10s 40ms/step - loss: 0.0085 - val_loss: 0.0069\n",
      "Epoch 4/100\n",
      "235/235 [==============================] - 10s 41ms/step - loss: 0.0062 - val_loss: 0.0058\n",
      "Epoch 5/100\n",
      "235/235 [==============================] - 10s 42ms/step - loss: 0.0049 - val_loss: 0.0049\n",
      "Epoch 6/100\n",
      "235/235 [==============================] - 10s 41ms/step - loss: 0.0041 - val_loss: 0.0040\n",
      "Epoch 7/100\n",
      "235/235 [==============================] - 10s 41ms/step - loss: 0.0035 - val_loss: 0.0036\n",
      "Epoch 8/100\n",
      "235/235 [==============================] - 10s 41ms/step - loss: 0.0030 - val_loss: 0.0034\n",
      "Epoch 9/100\n",
      "235/235 [==============================] - 10s 41ms/step - loss: 0.0027 - val_loss: 0.0028\n",
      "Epoch 10/100\n",
      "235/235 [==============================] - 9s 40ms/step - loss: 0.0024 - val_loss: 0.0023\n",
      "Epoch 11/100\n",
      "235/235 [==============================] - 9s 40ms/step - loss: 0.0022 - val_loss: 0.0023\n",
      "Epoch 12/100\n",
      "235/235 [==============================] - 9s 40ms/step - loss: 0.0020 - val_loss: 0.0020\n",
      "Epoch 13/100\n",
      "235/235 [==============================] - 9s 40ms/step - loss: 0.0018 - val_loss: 0.0022\n",
      "Epoch 14/100\n",
      "235/235 [==============================] - 10s 41ms/step - loss: 0.0017 - val_loss: 0.0017\n",
      "Epoch 15/100\n",
      "235/235 [==============================] - 9s 40ms/step - loss: 0.0016 - val_loss: 0.0018\n",
      "Epoch 16/100\n",
      "235/235 [==============================] - 9s 40ms/step - loss: 0.0015 - val_loss: 0.0014\n",
      "Epoch 17/100\n",
      "235/235 [==============================] - 10s 41ms/step - loss: 0.0014 - val_loss: 0.0013\n",
      "Epoch 18/100\n",
      "235/235 [==============================] - 9s 40ms/step - loss: 0.0013 - val_loss: 0.0015\n",
      "Epoch 19/100\n",
      "235/235 [==============================] - 9s 40ms/step - loss: 0.0013 - val_loss: 0.0012\n",
      "Epoch 20/100\n",
      "235/235 [==============================] - 9s 40ms/step - loss: 0.0012 - val_loss: 0.0012\n",
      "Epoch 21/100\n",
      "235/235 [==============================] - 9s 40ms/step - loss: 0.0012 - val_loss: 0.0012\n",
      "Epoch 22/100\n",
      "235/235 [==============================] - 9s 40ms/step - loss: 0.0011 - val_loss: 0.0014\n",
      "Epoch 23/100\n",
      "235/235 [==============================] - 9s 39ms/step - loss: 0.0011 - val_loss: 0.0010\n",
      "Epoch 24/100\n",
      "235/235 [==============================] - 9s 39ms/step - loss: 0.0010 - val_loss: 9.8921e-04\n",
      "Epoch 25/100\n",
      "235/235 [==============================] - 9s 39ms/step - loss: 9.8480e-04 - val_loss: 0.0013\n",
      "Epoch 26/100\n",
      "235/235 [==============================] - 9s 40ms/step - loss: 9.4976e-04 - val_loss: 9.1560e-04\n",
      "Epoch 27/100\n",
      "235/235 [==============================] - 10s 41ms/step - loss: 9.3129e-04 - val_loss: 8.6926e-04\n",
      "Epoch 28/100\n",
      "235/235 [==============================] - 9s 40ms/step - loss: 8.8593e-04 - val_loss: 8.6927e-04\n",
      "Epoch 29/100\n",
      "235/235 [==============================] - 9s 39ms/step - loss: 8.6911e-04 - val_loss: 8.2363e-04\n",
      "Epoch 30/100\n",
      "235/235 [==============================] - 9s 39ms/step - loss: 8.3816e-04 - val_loss: 8.6063e-04\n",
      "Epoch 31/100\n",
      "235/235 [==============================] - 9s 39ms/step - loss: 8.1071e-04 - val_loss: 8.1340e-04\n",
      "Epoch 32/100\n",
      "235/235 [==============================] - 9s 39ms/step - loss: 8.0065e-04 - val_loss: 7.7320e-04\n",
      "Epoch 33/100\n",
      "235/235 [==============================] - 9s 39ms/step - loss: 7.6873e-04 - val_loss: 7.6464e-04\n",
      "Epoch 34/100\n",
      "235/235 [==============================] - 9s 39ms/step - loss: 7.5379e-04 - val_loss: 7.1393e-04\n",
      "Epoch 35/100\n",
      "235/235 [==============================] - 9s 39ms/step - loss: 7.5489e-04 - val_loss: 7.2038e-04\n",
      "Epoch 36/100\n",
      "235/235 [==============================] - 9s 40ms/step - loss: 7.1574e-04 - val_loss: 0.0010\n",
      "Epoch 37/100\n",
      "235/235 [==============================] - 9s 39ms/step - loss: 7.1322e-04 - val_loss: 6.7333e-04\n",
      "Epoch 38/100\n",
      "235/235 [==============================] - 9s 40ms/step - loss: 7.0561e-04 - val_loss: 9.4526e-04\n",
      "Epoch 39/100\n",
      "235/235 [==============================] - 9s 39ms/step - loss: 6.7887e-04 - val_loss: 6.4611e-04\n",
      "Epoch 40/100\n",
      "235/235 [==============================] - 9s 39ms/step - loss: 6.5995e-04 - val_loss: 6.9813e-04\n",
      "Epoch 41/100\n",
      "235/235 [==============================] - 9s 39ms/step - loss: 6.5060e-04 - val_loss: 6.5826e-04\n",
      "Epoch 42/100\n",
      "235/235 [==============================] - 9s 39ms/step - loss: 6.3678e-04 - val_loss: 6.2949e-04\n",
      "Epoch 43/100\n",
      "235/235 [==============================] - 9s 39ms/step - loss: 6.3074e-04 - val_loss: 6.2102e-04\n",
      "Epoch 44/100\n",
      "235/235 [==============================] - 9s 39ms/step - loss: 6.1982e-04 - val_loss: 6.1644e-04\n",
      "Epoch 45/100\n",
      "235/235 [==============================] - 9s 39ms/step - loss: 6.1726e-04 - val_loss: 7.4222e-04\n",
      "Epoch 46/100\n",
      "235/235 [==============================] - 9s 39ms/step - loss: 6.0538e-04 - val_loss: 5.7388e-04\n",
      "Epoch 47/100\n",
      "235/235 [==============================] - 9s 39ms/step - loss: 5.9194e-04 - val_loss: 5.4860e-04\n",
      "Epoch 48/100\n",
      "235/235 [==============================] - 9s 40ms/step - loss: 5.7942e-04 - val_loss: 5.4676e-04\n",
      "Epoch 49/100\n",
      "235/235 [==============================] - 9s 40ms/step - loss: 5.7218e-04 - val_loss: 5.4537e-04\n",
      "Epoch 50/100\n",
      "235/235 [==============================] - 9s 40ms/step - loss: 5.5657e-04 - val_loss: 5.9551e-04\n",
      "Epoch 51/100\n",
      "235/235 [==============================] - 9s 40ms/step - loss: 5.5294e-04 - val_loss: 5.3475e-04\n",
      "Epoch 52/100\n",
      "235/235 [==============================] - 9s 40ms/step - loss: 5.5452e-04 - val_loss: 5.3459e-04\n",
      "Epoch 53/100\n",
      "235/235 [==============================] - 10s 41ms/step - loss: 5.3847e-04 - val_loss: 5.1639e-04\n",
      "Epoch 54/100\n",
      "235/235 [==============================] - 9s 40ms/step - loss: 5.2568e-04 - val_loss: 5.1145e-04\n",
      "Epoch 55/100\n",
      "235/235 [==============================] - 9s 40ms/step - loss: 5.2616e-04 - val_loss: 5.7689e-04\n",
      "Epoch 56/100\n",
      "235/235 [==============================] - 9s 40ms/step - loss: 5.1024e-04 - val_loss: 5.2756e-04\n",
      "Epoch 57/100\n",
      "235/235 [==============================] - 9s 40ms/step - loss: 5.0442e-04 - val_loss: 4.9330e-04\n",
      "Epoch 58/100\n",
      "235/235 [==============================] - 9s 40ms/step - loss: 4.9716e-04 - val_loss: 5.0755e-04\n",
      "Epoch 59/100\n",
      "235/235 [==============================] - 9s 40ms/step - loss: 5.0164e-04 - val_loss: 4.7092e-04\n",
      "Epoch 60/100\n",
      "235/235 [==============================] - 9s 40ms/step - loss: 4.8423e-04 - val_loss: 4.6842e-04\n",
      "Epoch 61/100\n",
      "235/235 [==============================] - 9s 40ms/step - loss: 4.9295e-04 - val_loss: 4.7511e-04\n",
      "Epoch 62/100\n",
      "235/235 [==============================] - 9s 39ms/step - loss: 4.9669e-04 - val_loss: 4.9545e-04\n",
      "Epoch 63/100\n",
      "235/235 [==============================] - 9s 39ms/step - loss: 4.6759e-04 - val_loss: 5.0398e-04\n",
      "Epoch 64/100\n",
      "235/235 [==============================] - 9s 40ms/step - loss: 4.7259e-04 - val_loss: 4.4405e-04\n",
      "Epoch 65/100\n",
      "235/235 [==============================] - 9s 39ms/step - loss: 4.6182e-04 - val_loss: 4.6902e-04\n",
      "Epoch 66/100\n",
      "235/235 [==============================] - 9s 40ms/step - loss: 4.5575e-04 - val_loss: 4.4682e-04\n",
      "Epoch 67/100\n",
      "235/235 [==============================] - 9s 39ms/step - loss: 4.4678e-04 - val_loss: 4.7196e-04\n",
      "Epoch 68/100\n",
      "235/235 [==============================] - 9s 39ms/step - loss: 4.4729e-04 - val_loss: 4.2988e-04\n",
      "Epoch 69/100\n",
      "235/235 [==============================] - 9s 40ms/step - loss: 4.4371e-04 - val_loss: 4.2472e-04\n",
      "Epoch 70/100\n",
      "235/235 [==============================] - 9s 40ms/step - loss: 4.3881e-04 - val_loss: 5.1834e-04\n",
      "Epoch 71/100\n",
      "235/235 [==============================] - 9s 39ms/step - loss: 4.4443e-04 - val_loss: 4.8495e-04\n",
      "Epoch 72/100\n",
      "235/235 [==============================] - 9s 39ms/step - loss: 4.3254e-04 - val_loss: 4.5187e-04\n",
      "Epoch 73/100\n",
      "235/235 [==============================] - 9s 40ms/step - loss: 4.3265e-04 - val_loss: 4.1450e-04\n",
      "Epoch 74/100\n",
      "235/235 [==============================] - 9s 40ms/step - loss: 4.2119e-04 - val_loss: 4.3107e-04\n",
      "Epoch 75/100\n",
      "235/235 [==============================] - 9s 39ms/step - loss: 4.1569e-04 - val_loss: 5.5843e-04\n",
      "Epoch 76/100\n",
      "235/235 [==============================] - 9s 40ms/step - loss: 4.1969e-04 - val_loss: 4.0559e-04\n",
      "Epoch 77/100\n",
      "235/235 [==============================] - 9s 39ms/step - loss: 4.1990e-04 - val_loss: 4.5438e-04\n",
      "Epoch 78/100\n",
      "235/235 [==============================] - 9s 39ms/step - loss: 4.1277e-04 - val_loss: 4.1907e-04\n",
      "Epoch 79/100\n",
      "235/235 [==============================] - 9s 39ms/step - loss: 4.0330e-04 - val_loss: 4.2043e-04\n",
      "Epoch 80/100\n",
      "235/235 [==============================] - 9s 40ms/step - loss: 4.0970e-04 - val_loss: 3.9895e-04\n",
      "Epoch 81/100\n",
      "235/235 [==============================] - 9s 39ms/step - loss: 3.9588e-04 - val_loss: 8.8860e-04\n",
      "Epoch 82/100\n",
      "235/235 [==============================] - 9s 40ms/step - loss: 4.0030e-04 - val_loss: 4.2024e-04\n",
      "Epoch 83/100\n",
      "235/235 [==============================] - 10s 41ms/step - loss: 3.9152e-04 - val_loss: 4.2197e-04\n",
      "Epoch 84/100\n",
      "235/235 [==============================] - 10s 41ms/step - loss: 3.8763e-04 - val_loss: 4.7303e-04\n",
      "Epoch 85/100\n",
      "235/235 [==============================] - 9s 40ms/step - loss: 3.9056e-04 - val_loss: 3.8403e-04\n",
      "Epoch 86/100\n",
      "235/235 [==============================] - 9s 40ms/step - loss: 3.8749e-04 - val_loss: 4.4813e-04\n",
      "Epoch 87/100\n",
      "235/235 [==============================] - 9s 40ms/step - loss: 3.8342e-04 - val_loss: 4.2347e-04\n",
      "Epoch 88/100\n",
      "235/235 [==============================] - 9s 40ms/step - loss: 3.8581e-04 - val_loss: 4.2461e-04\n",
      "Epoch 89/100\n",
      "235/235 [==============================] - 9s 40ms/step - loss: 3.7939e-04 - val_loss: 4.3155e-04\n",
      "Epoch 90/100\n",
      "235/235 [==============================] - 9s 40ms/step - loss: 3.8268e-04 - val_loss: 5.0190e-04\n",
      "Epoch 91/100\n",
      "235/235 [==============================] - 9s 40ms/step - loss: 3.7540e-04 - val_loss: 3.6441e-04\n",
      "Epoch 92/100\n",
      "235/235 [==============================] - 9s 40ms/step - loss: 3.7684e-04 - val_loss: 3.9402e-04\n",
      "Epoch 93/100\n",
      "235/235 [==============================] - 9s 40ms/step - loss: 3.6408e-04 - val_loss: 3.5328e-04\n",
      "Epoch 94/100\n",
      "235/235 [==============================] - 10s 41ms/step - loss: 3.5850e-04 - val_loss: 4.1751e-04\n",
      "Epoch 95/100\n",
      "235/235 [==============================] - 10s 40ms/step - loss: 3.5651e-04 - val_loss: 3.4688e-04\n",
      "Epoch 96/100\n",
      "235/235 [==============================] - 9s 40ms/step - loss: 3.5448e-04 - val_loss: 3.4634e-04\n",
      "Epoch 97/100\n",
      "235/235 [==============================] - 9s 40ms/step - loss: 3.5097e-04 - val_loss: 3.5507e-04\n",
      "Epoch 98/100\n",
      "235/235 [==============================] - 9s 40ms/step - loss: 3.5050e-04 - val_loss: 3.4093e-04\n",
      "Epoch 99/100\n",
      "235/235 [==============================] - 9s 40ms/step - loss: 3.4506e-04 - val_loss: 3.4671e-04\n",
      "Epoch 100/100\n",
      "235/235 [==============================] - 9s 40ms/step - loss: 3.4189e-04 - val_loss: 3.4693e-04\n"
     ]
    }
   ],
   "source": [
    "# Обучаем модель автокодировщика\n",
    "history = modelAutoMnist.fit(xTrainMnist, xTrainMnist, epochs=100, batch_size=256, validation_data = (xTestMnist, xTestMnist))"
   ]
  },
  {
   "cell_type": "code",
   "execution_count": 19,
   "metadata": {},
   "outputs": [
    {
     "data": {
      "image/png": "[encoded data removed]",
      "text/plain": [
       "<Figure size 1008x504 with 1 Axes>"
      ]
     },
     "metadata": {},
     "output_type": "display_data"
    }
   ],
   "source": [
    "#Выводим графики\n",
    "plt.figure(figsize=(14,7))\n",
    "plt.plot(history.history['loss'][10:], \n",
    "         label='Средняя абсолютная ошибка на обучающем наборе')\n",
    "plt.plot(history.history['val_loss'][10:], \n",
    "         label='Средняя абсолютная ошибка на проверочном наборе')\n",
    "plt.ylabel('Средняя ошибка')\n",
    "plt.legend()\n",
    "plt.show()"
   ]
  },
  {
   "cell_type": "code",
   "execution_count": 20,
   "metadata": {},
   "outputs": [],
   "source": [
    "modelAutoMnist.save_weights('./modelAutoMnist.h5') # Сохраняем модель\n",
    "modelAutoMnist.load_weights('./modelAutoMnist.h5') # Загружаем модель"
   ]
  },
  {
   "cell_type": "code",
   "execution_count": 21,
   "metadata": {},
   "outputs": [],
   "source": [
    "predMnistTest = modelAutoMnist.predict(xTestMnist) # Получаем результат работы модели на тестовой выборке\n",
    "predMnistTest = predMnistTest * 255 # представляем в виде значений от 0 до 255\n",
    "predMnistTest = predMnistTest.astype('uint8') # устанавливаем 8битовый тип"
   ]
  },
  {
   "cell_type": "code",
   "execution_count": 22,
   "metadata": {},
   "outputs": [
    {
     "data": {
      "image/png": "[encoded data removed]",
      "text/plain": [
       "<Figure size 1008x504 with 10 Axes>"
      ]
     },
     "metadata": {},
     "output_type": "display_data"
    }
   ],
   "source": [
    "plotImages(xTestMnist, predMnistTest, shape=(28,28)) # покажем исходные и восстановленные картинки"
   ]
  },
  {
   "cell_type": "code",
   "execution_count": 23,
   "metadata": {},
   "outputs": [],
   "source": [
    "predMnistTrain = modelAutoMnist.predict(xTrainMnist) # Получаем результат работы модели на обучающей выборке\n",
    "predMnistTrain = predMnistTrain * 255 # представляем в виде значений от 0 до 255\n",
    "predMnistTrain = predMnistTrain.astype('uint8') # устанавливаем 8битовый тип"
   ]
  },
  {
   "cell_type": "code",
   "execution_count": 12,
   "metadata": {},
   "outputs": [],
   "source": [
    "predMnistF = modelAutoMnist.predict(xTrainMnistF) # сделаем предикт для первых ста картинок из fashion_mnist\n",
    "predMnistF = predMnistF * 255 # представляем в виде значений от 0 до 255\n",
    "predMnistF = predMnistF.astype('uint8') # устанавливаем 8битовый тип"
   ]
  },
  {
   "cell_type": "code",
   "execution_count": null,
   "metadata": {},
   "outputs": [],
   "source": [
    "plotImages(xTrainMnistF, predMnistF, shape=(28,28)) # выведем на экран картинки правильных и восстановленных изображений "
   ]
  }
 ],
 "metadata": {
  "interpreter": {
   "hash": "1d199128606a023b11bbcb2fe755a70a2e9dd357ca68a53b2cad2d17d47dede9"
  },
  "kernelspec": {
   "display_name": "Python 3.10.0 64-bit",
   "language": "python",
   "name": "python3"
  },
  "language_info": {
   "codemirror_mode": {
    "name": "ipython",
    "version": 3
   },
   "file_extension": ".py",
   "mimetype": "text/x-python",
   "name": "python",
   "nbconvert_exporter": "python",
   "pygments_lexer": "ipython3",
   "version": "3.9.7"
  },
  "orig_nbformat": 4
 },
 "nbformat": 4,
 "nbformat_minor": 2
}
