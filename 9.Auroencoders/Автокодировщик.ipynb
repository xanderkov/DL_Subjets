{
 "cells": [
  {
   "cell_type": "code",
   "execution_count": 4,
   "metadata": {},
   "outputs": [],
   "source": [
    "from tensorflow.keras.models import Model, Sequential\n",
    "from tensorflow.keras.layers import Dense, Flatten, Reshape, Input, Conv2DTranspose, concatenate, Activation, MaxPooling2D, Conv2D, BatchNormalization\n",
    "from tensorflow.keras import backend as K\n",
    "from tensorflow.keras.optimizers import Adam\n",
    "from tensorflow.keras import utils\n",
    "from tensorflow.keras.datasets import mnist, fashion_mnist\n",
    "from tensorflow.keras.callbacks import LambdaCallback\n",
    "import matplotlib.pyplot as plt\n",
    "from tensorflow.keras.preprocessing import image\n",
    "import numpy as np\n",
    "import pandas as pd\n",
    "from PIL import Image\n",
    "from sklearn.model_selection import train_test_split\n",
    "from sklearn.preprocessing import StandardScaler\n",
    "import os\n",
    "import time, random\n",
    "import seaborn as sns\n",
    "from PIL import Image,ImageDraw\n",
    "sns.set_style('darkgrid')"
   ]
  },
  {
   "cell_type": "code",
   "execution_count": 5,
   "metadata": {},
   "outputs": [],
   "source": [
    "def baseAutoencoder(shape=(112,80,1)): # зададим функцию создания базового автокодировщика\n",
    "    img_input = Input((shape)) # задаём входные размеры\n",
    "\n",
    "    x = Conv2D(32, (3, 3), padding='same', activation='relu')(img_input) # входные данные передаем на слой двумерной свёртки\n",
    "    x = BatchNormalization()(x) # затем пропускаем через слой нормализации данных \n",
    "    x = Conv2D(32, (3, 3), padding='same', activation='relu')(x) # далее снова слой двумерной свёртки\n",
    "    x = BatchNormalization()(x) # и еще слой нормализации данных\n",
    "    x = MaxPooling2D()(x) # передаём на слой подвыборки, снижающий размерность поступивших на него данных\n",
    "\n",
    "    x = Conv2D(64, (3, 3), padding='same', activation='relu')(x) # передаем на слой двумерной свёртки\n",
    "    x = BatchNormalization()(x) # пропускаем через слой нормализации данных \n",
    "    x = Conv2D(64, (3, 3), padding='same', activation='relu')(x)  # далее снова слой двумерной свёртки\n",
    "    x = BatchNormalization()(x) # и еще слой нормализации данных\n",
    "    z = MaxPooling2D()(x) # передаём на слой подвыборки\n",
    "    \n",
    "\n",
    "    x = Conv2DTranspose(64, (2, 2), strides=(2, 2), padding='same', activation='relu')(z) # слой разжимает данные(с 28*20 на 56*40)\n",
    "    x = BatchNormalization()(x) # слой нормализации данных\n",
    "    \n",
    "    x = Conv2D(64, (3, 3), padding='same', activation='relu')(x) # передаем на слой двумерной свёртки\n",
    "    x = BatchNormalization()(x) # слой нормализации данных\n",
    "    x = Conv2D(64, (3, 3), padding='same', activation='relu')(x) # ещё слой двумерной свёртки\n",
    "    x = BatchNormalization()(x) # слой нормализации данных\n",
    "    # Сжатие MaxPooling2D не применяем\n",
    "\n",
    "    x = Conv2DTranspose(32, (2, 2), strides=(2, 2), padding='same', activation='relu')(x) # слой разжимает данные(с 56*40 на 112*80)\n",
    "    x = BatchNormalization()(x) # слой нормализации данных\n",
    "    x = Conv2D(32, (3, 3), padding='same', activation='relu')(x) # передаем на слой двумерной свёртки\n",
    "    x = BatchNormalization()(x) # слой нормализации данных\n",
    "    x = Conv2D(32, (3, 3), padding='same', activation='relu')(x) # ещё слой двумерной свёртки\n",
    "    x = BatchNormalization()(x) # слой нормализации данных\n",
    "\n",
    "    # Финальный слой двумерной свертки, выдающий итоговое изображение\n",
    "    x = Conv2D(shape[-1], (3, 3), activation='sigmoid', padding='same')(x)\n",
    "\n",
    "    model = Model(img_input, x) # указываем модель, с оригинальным изображением на входе в сеть и сжатым-разжатым на выходе из сети\n",
    "    model.compile(optimizer=Adam(lr=0.0001),\n",
    "                  loss='mean_squared_error') # компилируем модель с оптимайзером Адам и среднеквадратичной ошибкой\n",
    "\n",
    "    return model # функция вернёт заданную модель"
   ]
  },
  {
   "cell_type": "code",
   "execution_count": 44,
   "metadata": {},
   "outputs": [],
   "source": [
    "def create_dense_ae(latent_dim): # объявляем функцию создания автокодировщика\n",
    "    # Энкодер\n",
    "    # Входной плейсхолдер\n",
    "    input_img = Input(shape=(28, 28, 1)) # 28, 28, 1 - размерности строк, столбцов, фильтров одной картинки, без батч-размерности\n",
    "    # Вспомогательный слой решейпинга\n",
    "    flat_img = Flatten()(input_img)    \n",
    "    # Кодированное полносвязным слоем представление\n",
    "    encoded = Dense(latent_dim, activation='relu')(flat_img)    \n",
    "    # Декодер\n",
    "    # Раскодированное другим полносвязным слоем изображение\n",
    "    input_encoded = Input(shape=(latent_dim,)) # задаем входную размерность (49,)\n",
    "    flat_decoded = Dense(28*28, activation='sigmoid')(input_encoded) # далее полносвязный слой на 784 нейрона\n",
    "    decoded = Reshape((28, 28, 1))(flat_decoded) # меняем форму, приводим к нужным нам размерам\n",
    "    # Модели, в конструктор первым аргументом передаются входные слои, а вторым выходные слои\n",
    "    # Другие модели можно так же использовать как и слои\n",
    "    encoder = Model(input_img, encoded, name=\"encoder\")    \n",
    "    decoder = Model(input_encoded, decoded, name=\"decoder\")    \n",
    "    # Построим модель автокодировщика (внутри двойное преобразование - сжатие/разжатие)\n",
    "    autoencoder = Model(input_img, decoder(encoder(input_img)), name=\"autoencoder\")\n",
    "    return encoder, decoder, autoencoder # функция вернет 3 собранные сетки"
   ]
  },
  {
   "cell_type": "code",
   "execution_count": 3,
   "metadata": {},
   "outputs": [],
   "source": [
    "def plotImages(xTrain, pred, shape=(112, 80)): # создадим функцию для вывода изображений как картинок\n",
    "  n = 5  # количество картинок, которые хотим показать\n",
    "  plt.figure(figsize=(14, 7)) # указываем размеры фигуры\n",
    "  for i in range(n): # для каждой картинки из n(5)\n",
    "      index = np.random.randint(0, pred.shape[0]) # startIndex - начиная с какого индекса хотим заплотить картинки\n",
    "      # Показываем картинки из тестового набора\n",
    "      ax = plt.subplot(2, n, i + 1) # выведем область рисования Axes\n",
    "      plt.imshow(xTrain[index].reshape(shape)) # отрисуем правильные картинки в размере 112*80      \n",
    "      plt.gray() # выведем в черно-белом цвете\n",
    "      ax.get_xaxis().set_visible(False) # скрываем вывод координатной оси x\n",
    "      ax.get_yaxis().set_visible(False) # скрываем вывод координатной оси y\n",
    "\n",
    "      # Показываем восстановленные картинки\n",
    "      ax = plt.subplot(2, n, i + 1 + n) # выведем область рисования Axes \n",
    "      plt.imshow(pred[index].reshape(shape)) # отрисуем обработанные сеткой картинки в размере 112*80     \n",
    "      plt.gray() # выведем в черно-белом цвете\n",
    "      ax.get_xaxis().set_visible(False) # скрываем вывод координатной оси x\n",
    "      ax.get_yaxis().set_visible(False) # скрываем вывод координатной оси y\n",
    "  plt.show()"
   ]
  },
  {
   "cell_type": "code",
   "execution_count": 4,
   "metadata": {},
   "outputs": [],
   "source": [
    "# Функция для расчета mse\n",
    "def getMSE(x1, x2): # создадим функцию среднеквадратичной ошибки\n",
    "  x1 = x1.flatten() # сплющиваем в одномерный вектор\n",
    "  x2 = x2.flatten() # сплющиваем в одномерный вектор\n",
    "  delta = x1 - x2 # находим разницу\n",
    "  return sum(delta ** 2) / len(delta) # и возвращаем сумму квадратов разницы, делённую на длину разницы"
   ]
  },
  {
   "cell_type": "code",
   "execution_count": 28,
   "metadata": {},
   "outputs": [],
   "source": [
    "# Загрузим данные из fashion_mnist - базы с одеждой,обувью и т.п\n",
    "(xTrainMnistF, yTrainMnistF), (xTestMnistF, yTestMnistF) = fashion_mnist.load_data()\n",
    "xTrainMnistF = xTrainMnistF.astype('float32')/255 # представляем в виде значений от 0 до 1\n",
    "xTrainMnistF = xTrainMnistF.reshape(xTrainMnistF.shape[0], 28, 28, 1) # меняем форму, приводим к нужным нам размера\n",
    "xTestMnistF = xTestMnistF.astype('float32')/255 # представляем в виде значений от 0 до 1\n",
    "xTestMnistF = xTestMnistF.reshape(xTestMnistF.shape[0], 28, 28, 1) # меняем форму, приводим к нужным нам размер"
   ]
  },
  {
   "cell_type": "code",
   "execution_count": 11,
   "metadata": {},
   "outputs": [
    {
     "name": "stderr",
     "output_type": "stream",
     "text": [
      "C:\\Users\\xande\\AppData\\Local\\Programs\\Python\\Python39\\lib\\site-packages\\keras\\optimizer_v2\\optimizer_v2.py:355: UserWarning: The `lr` argument is deprecated, use `learning_rate` instead.\n",
      "  warnings.warn(\n"
     ]
    }
   ],
   "source": [
    "modelAutoMnist = baseAutoencoder((28,28,1)) # создаем автокодировщик"
   ]
  },
  {
   "cell_type": "code",
   "execution_count": 52,
   "metadata": {},
   "outputs": [
    {
     "name": "stdout",
     "output_type": "stream",
     "text": [
      "Epoch 1/100\n",
      "235/235 [==============================] - 12s 48ms/step - loss: 7.8827e-04 - val_loss: 0.1873\n",
      "Epoch 2/100\n",
      "235/235 [==============================] - 10s 42ms/step - loss: 7.7657e-04 - val_loss: 0.1878\n",
      "Epoch 3/100\n",
      "235/235 [==============================] - 9s 40ms/step - loss: 7.7206e-04 - val_loss: 0.1872\n",
      "Epoch 4/100\n",
      "235/235 [==============================] - 9s 40ms/step - loss: 7.7040e-04 - val_loss: 0.1873\n",
      "Epoch 5/100\n",
      "235/235 [==============================] - 9s 40ms/step - loss: 7.7581e-04 - val_loss: 0.1875\n",
      "Epoch 6/100\n",
      "235/235 [==============================] - 9s 40ms/step - loss: 7.6539e-04 - val_loss: 0.1876\n",
      "Epoch 7/100\n",
      "235/235 [==============================] - 10s 41ms/step - loss: 7.6038e-04 - val_loss: 0.1876\n",
      "Epoch 8/100\n",
      "235/235 [==============================] - 10s 41ms/step - loss: 7.5768e-04 - val_loss: 0.1873\n",
      "Epoch 9/100\n",
      "235/235 [==============================] - 10s 41ms/step - loss: 7.5855e-04 - val_loss: 0.1874\n",
      "Epoch 10/100\n",
      "235/235 [==============================] - 10s 41ms/step - loss: 7.5131e-04 - val_loss: 0.1872\n",
      "Epoch 11/100\n",
      "235/235 [==============================] - 10s 42ms/step - loss: 7.4991e-04 - val_loss: 0.1873\n",
      "Epoch 12/100\n",
      "223/235 [===========================>..] - ETA: 0s - loss: 7.4890e-04"
     ]
    }
   ],
   "source": [
    "# Обучаем модель автокодировщика\n",
    "history = modelAutoMnist.fit(xTrainMnistF, xTrainMnistF, epochs=100, batch_size=256, validation_data = (xTestMnistF, xTestMnistF))"
   ]
  },
  {
   "cell_type": "code",
   "execution_count": null,
   "metadata": {},
   "outputs": [
    {
     "data": {
      "image/png": "[encoded data removed]",
      "text/plain": [
       "<Figure size 1008x504 with 1 Axes>"
      ]
     },
     "metadata": {},
     "output_type": "display_data"
    }
   ],
   "source": [
    "#Выводим графики\n",
    "plt.figure(figsize=(14,7))\n",
    "plt.plot(history.history['loss'][10:], \n",
    "         label='Средняя абсолютная ошибка на обучающем наборе')\n",
    "plt.plot(history.history['val_loss'][10:], \n",
    "         label='Средняя абсолютная ошибка на проверочном наборе')\n",
    "plt.ylabel('Средняя ошибка')\n",
    "plt.legend()\n",
    "plt.show()"
   ]
  },
  {
   "cell_type": "code",
   "execution_count": 20,
   "metadata": {},
   "outputs": [],
   "source": [
    "modelAutoMnist.save_weights('./modelAutoMnist.h5') # Сохраняем модель\n",
    "modelAutoMnist.load_weights('./modelAutoMnist.h5') # Загружаем модель"
   ]
  },
  {
   "cell_type": "code",
   "execution_count": 49,
   "metadata": {},
   "outputs": [],
   "source": [
    "predMnistF = modelAutoMnist.predict(xTrainMnistF) # сделаем предикт для первых ста картинок из fashion_mnist\n",
    "predMnistF = predMnistF * 255 # представляем в виде значений от 0 до 255\n",
    "predMnistF = predMnistF.astype('uint8') # устанавливаем 8битовый тип\n"
   ]
  },
  {
   "cell_type": "code",
   "execution_count": 50,
   "metadata": {},
   "outputs": [
    {
     "data": {
      "image/png": "[encoded data removed]",
      "text/plain": [
       "<Figure size 1008x504 with 10 Axes>"
      ]
     },
     "metadata": {},
     "output_type": "display_data"
    }
   ],
   "source": [
    "plotImages(xTrainMnistF, predMnistF, shape=(28,28)) # выведем на экран картинки правильных и восстановленных изображений "
   ]
  },
  {
   "cell_type": "code",
   "execution_count": 41,
   "metadata": {},
   "outputs": [],
   "source": [
    "def addSquare(x): # объявим функцию добавления квадрата\n",
    "  \n",
    "  squareRandomX = np.random.randint(20) # создаем координату Х квадрата\n",
    "  squareRandomY = np.random.randint(20) # создаем координату Y квадрата\n",
    "\n",
    "  for i in range(squareRandomX,squareRandomX+8):\n",
    "    for j in range(squareRandomY,squareRandomY+8):\n",
    "          x_copy = x.copy()\n",
    "          x_copy[i][j] = 0\n",
    "         \n",
    "  return x_copy\n",
    "\n",
    "def Any10Images(startIndex, xTrain):                  #Функция отображения любых 10 картинок\n",
    "    n = 10\n",
    "    plt.figure(figsize=(10,4))\n",
    "    for i in range(n):\n",
    "      index = i + startIndex\n",
    "      ax = plt.subplot(2,n,i+1)\n",
    "      plt.imshow(xTrain[index].reshape(28,28))\n",
    "      plt.gray()\n",
    "      ax.get_xaxis().set_visible(False)\n",
    "      ax.get_yaxis().set_visible(False)\n",
    "\n",
    "    plt.show()"
   ]
  },
  {
   "cell_type": "code",
   "execution_count": 42,
   "metadata": {},
   "outputs": [],
   "source": [
    "(xSquareMnist, ySquareMnist), (xSquareTestMnist, ySquareTestMnist) = fashion_mnist.load_data()"
   ]
  },
  {
   "cell_type": "code",
   "execution_count": 43,
   "metadata": {},
   "outputs": [
    {
     "ename": "TypeError",
     "evalue": "'WRITEABLE' is an invalid keyword argument for setflags()",
     "output_type": "error",
     "traceback": [
      "\u001b[1;31m---------------------------------------------------------------------------\u001b[0m",
      "\u001b[1;31mTypeError\u001b[0m                                 Traceback (most recent call last)",
      "\u001b[1;32m~\\AppData\\Local\\Temp/ipykernel_29676/4111289343.py\u001b[0m in \u001b[0;36m<module>\u001b[1;34m\u001b[0m\n\u001b[0;32m      1\u001b[0m \u001b[1;32mfor\u001b[0m \u001b[0mi\u001b[0m \u001b[1;32min\u001b[0m \u001b[0mrange\u001b[0m\u001b[1;33m(\u001b[0m\u001b[1;36m0\u001b[0m\u001b[1;33m,\u001b[0m\u001b[1;36m12000\u001b[0m\u001b[1;33m)\u001b[0m\u001b[1;33m:\u001b[0m                                                        \u001b[1;31m#Добавляем квадрат на выбранные картинки\u001b[0m\u001b[1;33m\u001b[0m\u001b[1;33m\u001b[0m\u001b[0m\n\u001b[1;32m----> 2\u001b[1;33m   \u001b[0mxSquareMnist\u001b[0m\u001b[1;33m[\u001b[0m\u001b[0mi\u001b[0m\u001b[1;33m]\u001b[0m \u001b[1;33m=\u001b[0m \u001b[0maddSquare\u001b[0m\u001b[1;33m(\u001b[0m\u001b[0mxSquareMnist\u001b[0m\u001b[1;33m[\u001b[0m\u001b[0mi\u001b[0m\u001b[1;33m]\u001b[0m\u001b[1;33m)\u001b[0m\u001b[1;33m\u001b[0m\u001b[1;33m\u001b[0m\u001b[0m\n\u001b[0m\u001b[0;32m      3\u001b[0m \u001b[1;33m\u001b[0m\u001b[0m\n\u001b[0;32m      4\u001b[0m \u001b[0mAny10Images\u001b[0m\u001b[1;33m(\u001b[0m\u001b[1;36m1000\u001b[0m\u001b[1;33m,\u001b[0m\u001b[0mxSquareMnist\u001b[0m\u001b[1;33m)\u001b[0m\u001b[1;33m\u001b[0m\u001b[1;33m\u001b[0m\u001b[0m\n",
      "\u001b[1;32m~\\AppData\\Local\\Temp/ipykernel_29676/2152090594.py\u001b[0m in \u001b[0;36maddSquare\u001b[1;34m(x)\u001b[0m\n\u001b[0;32m      6\u001b[0m   \u001b[1;32mfor\u001b[0m \u001b[0mi\u001b[0m \u001b[1;32min\u001b[0m \u001b[0mrange\u001b[0m\u001b[1;33m(\u001b[0m\u001b[0msquareRandomX\u001b[0m\u001b[1;33m,\u001b[0m\u001b[0msquareRandomX\u001b[0m\u001b[1;33m+\u001b[0m\u001b[1;36m8\u001b[0m\u001b[1;33m)\u001b[0m\u001b[1;33m:\u001b[0m\u001b[1;33m\u001b[0m\u001b[1;33m\u001b[0m\u001b[0m\n\u001b[0;32m      7\u001b[0m     \u001b[1;32mfor\u001b[0m \u001b[0mj\u001b[0m \u001b[1;32min\u001b[0m \u001b[0mrange\u001b[0m\u001b[1;33m(\u001b[0m\u001b[0msquareRandomY\u001b[0m\u001b[1;33m,\u001b[0m\u001b[0msquareRandomY\u001b[0m\u001b[1;33m+\u001b[0m\u001b[1;36m8\u001b[0m\u001b[1;33m)\u001b[0m\u001b[1;33m:\u001b[0m\u001b[1;33m\u001b[0m\u001b[1;33m\u001b[0m\u001b[0m\n\u001b[1;32m----> 8\u001b[1;33m           \u001b[0mx\u001b[0m\u001b[1;33m.\u001b[0m\u001b[0msetflags\u001b[0m\u001b[1;33m(\u001b[0m\u001b[0mWRITEABLE\u001b[0m \u001b[1;33m=\u001b[0m\u001b[1;36m1\u001b[0m\u001b[1;33m)\u001b[0m\u001b[1;33m\u001b[0m\u001b[1;33m\u001b[0m\u001b[0m\n\u001b[0m\u001b[0;32m      9\u001b[0m           \u001b[0mx\u001b[0m\u001b[1;33m[\u001b[0m\u001b[0mi\u001b[0m\u001b[1;33m]\u001b[0m\u001b[1;33m[\u001b[0m\u001b[0mj\u001b[0m\u001b[1;33m]\u001b[0m \u001b[1;33m=\u001b[0m \u001b[1;36m0\u001b[0m\u001b[1;33m\u001b[0m\u001b[1;33m\u001b[0m\u001b[0m\n\u001b[0;32m     10\u001b[0m \u001b[1;33m\u001b[0m\u001b[0m\n",
      "\u001b[1;31mTypeError\u001b[0m: 'WRITEABLE' is an invalid keyword argument for setflags()"
     ]
    }
   ],
   "source": [
    "for i in range(0,12000):                                                        #Добавляем квадрат на выбранные картинки\n",
    "  xSquareMnist[i] = addSquare(xSquareMnist[i])\n",
    "\n",
    "Any10Images(1000,xSquareMnist)"
   ]
  },
  {
   "cell_type": "code",
   "execution_count": null,
   "metadata": {},
   "outputs": [],
   "source": []
  }
 ],
 "metadata": {
  "interpreter": {
   "hash": "1d199128606a023b11bbcb2fe755a70a2e9dd357ca68a53b2cad2d17d47dede9"
  },
  "kernelspec": {
   "display_name": "Python 3.10.0 64-bit",
   "language": "python",
   "name": "python3"
  },
  "language_info": {
   "codemirror_mode": {
    "name": "ipython",
    "version": 3
   },
   "file_extension": ".py",
   "mimetype": "text/x-python",
   "name": "python",
   "nbconvert_exporter": "python",
   "pygments_lexer": "ipython3",
   "version": "3.9.7"
  },
  "orig_nbformat": 4
 },
 "nbformat": 4,
 "nbformat_minor": 2
}
