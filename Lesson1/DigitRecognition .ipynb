{
 "cells": [
  {
   "cell_type": "code",
   "execution_count": 4,
   "id": "daf0b29e",
   "metadata": {},
   "outputs": [],
   "source": [
    "from tensorflow.keras.datasets import mnist\n",
    "from tensorflow.keras.models import Sequential\n",
    "from tensorflow.keras.layers import Dense # Полносвязная нейронная сеть\n",
    "from tensorflow.keras import utils\n",
    "from tensorflow.keras.optimizers import Adam\n",
    "from tensorflow.keras.preprocessing import image\n",
    "import numpy as np\n",
    "import pylab # Модуль для построения графиков\n",
    "from mpl_toolkits.mplot3d import Axes3D\n",
    "import matplotlib.pyplot as plt\n",
    "from PIL import Image\n",
    "# отрисовать график не в консоль а в ноутбук\n",
    "%matplotlib inline"
   ]
  },
  {
   "cell_type": "code",
   "execution_count": 5,
   "id": "51625063",
   "metadata": {},
   "outputs": [
    {
     "name": "stdout",
     "output_type": "stream",
     "text": [
      "Downloading data from https://storage.googleapis.com/tensorflow/tf-keras-datasets/mnist.npz\n",
      "11493376/11490434 [==============================] - 0s 0us/step\n"
     ]
    }
   ],
   "source": [
    "(x_train_org, y_train_org), (x_test_org, y_test_org) = mnist.load_data()"
   ]
  },
  {
   "cell_type": "code",
   "execution_count": 6,
   "id": "1edf960a",
   "metadata": {},
   "outputs": [
    {
     "data": {
      "text/plain": [
       "(28, 28)"
      ]
     },
     "execution_count": 6,
     "metadata": {},
     "output_type": "execute_result"
    }
   ],
   "source": [
    "x_train_org[0].shape"
   ]
  },
  {
   "cell_type": "code",
   "execution_count": 7,
   "id": "2cc58d18",
   "metadata": {},
   "outputs": [
    {
     "data": {
      "image/png": "[encoded data removed]",
      "text/plain": [
       "<Figure size 432x288 with 1 Axes>"
      ]
     },
     "metadata": {
      "needs_background": "light"
     },
     "output_type": "display_data"
    }
   ],
   "source": [
    "n = 25\n",
    "plt.imshow(Image.fromarray(x_train_org[n]).convert('RGB'))\n",
    "plt.show()"
   ]
  },
  {
   "cell_type": "code",
   "execution_count": 8,
   "id": "64c7195f",
   "metadata": {},
   "outputs": [
    {
     "name": "stdout",
     "output_type": "stream",
     "text": [
      "(60000, 28, 28)\n",
      "(60000, 784)\n"
     ]
    }
   ],
   "source": [
    "x_train = x_train_org.reshape(60000, 784)\n",
    "x_test = x_test_org.reshape(10000, 784)\n",
    "print(x_train_org.shape)\n",
    "print(x_train.shape)"
   ]
  },
  {
   "cell_type": "code",
   "execution_count": 9,
   "id": "a07d7f8b",
   "metadata": {},
   "outputs": [],
   "source": [
    "x_train = x_train.astype('float32')\n",
    "x_train = x_train / 255\n",
    "x_test = x_test.astype('float32')\n",
    "x_test = x_test / 255"
   ]
  },
  {
   "cell_type": "code",
   "execution_count": 10,
   "id": "ac9ef45c",
   "metadata": {},
   "outputs": [],
   "source": [
    "# Преобразуем ответы в формат one_hot_encoding\n",
    "y_train = utils.to_categorical(y_train_org, 10)\n",
    "y_test = utils.to_categorical(y_test_org, 10)"
   ]
  },
  {
   "cell_type": "markdown",
   "id": "7227c0a7",
   "metadata": {},
   "source": [
    "# Создаем нейронную сеть"
   ]
  },
  {
   "cell_type": "code",
   "execution_count": 11,
   "id": "1663880e",
   "metadata": {},
   "outputs": [],
   "source": [
    "model = Sequential()\n",
    "model.add(Dense(800, input_dim = 784, activation=\"relu\"))\n",
    "model.add(Dense(400, activation=\"relu\"))\n",
    "model.add(Dense(10, activation=\"softmax\"))"
   ]
  },
  {
   "cell_type": "code",
   "execution_count": 14,
   "id": "d5a911de",
   "metadata": {},
   "outputs": [],
   "source": [
    "model.compile(loss=\"categorical_crossentropy\", optimizer=\"adam\", metrics=[\"accuracy\"])"
   ]
  },
  {
   "cell_type": "markdown",
   "id": "5173f32b",
   "metadata": {},
   "source": [
    "# Обучение"
   ]
  },
  {
   "cell_type": "code",
   "execution_count": 15,
   "id": "f32b8cd4",
   "metadata": {},
   "outputs": [
    {
     "name": "stdout",
     "output_type": "stream",
     "text": [
      "Epoch 1/15\n",
      "469/469 [==============================] - 6s 11ms/step - loss: 0.3775 - accuracy: 0.8890\n",
      "Epoch 2/15\n",
      "469/469 [==============================] - 5s 11ms/step - loss: 0.0796 - accuracy: 0.9747\n",
      "Epoch 3/15\n",
      "469/469 [==============================] - 5s 11ms/step - loss: 0.0453 - accuracy: 0.9863\n",
      "Epoch 4/15\n",
      "469/469 [==============================] - 6s 12ms/step - loss: 0.0334 - accuracy: 0.9893\n",
      "Epoch 5/15\n",
      "469/469 [==============================] - 6s 12ms/step - loss: 0.0232 - accuracy: 0.9924\n",
      "Epoch 6/15\n",
      "469/469 [==============================] - 5s 11ms/step - loss: 0.0175 - accuracy: 0.9943\n",
      "Epoch 7/15\n",
      "469/469 [==============================] - 4s 10ms/step - loss: 0.0155 - accuracy: 0.9950\n",
      "Epoch 8/15\n",
      "469/469 [==============================] - 5s 10ms/step - loss: 0.0145 - accuracy: 0.9952\n",
      "Epoch 9/15\n",
      "469/469 [==============================] - 5s 11ms/step - loss: 0.0107 - accuracy: 0.9969\n",
      "Epoch 10/15\n",
      "469/469 [==============================] - 6s 13ms/step - loss: 0.0100 - accuracy: 0.9966\n",
      "Epoch 11/15\n",
      "469/469 [==============================] - 6s 12ms/step - loss: 0.0099 - accuracy: 0.9968\n",
      "Epoch 12/15\n",
      "469/469 [==============================] - 5s 11ms/step - loss: 0.0098 - accuracy: 0.9969\n",
      "Epoch 13/15\n",
      "469/469 [==============================] - 5s 11ms/step - loss: 0.0104 - accuracy: 0.9963\n",
      "Epoch 14/15\n",
      "469/469 [==============================] - 5s 12ms/step - loss: 0.0079 - accuracy: 0.9974\n",
      "Epoch 15/15\n",
      "469/469 [==============================] - 6s 12ms/step - loss: 0.0083 - accuracy: 0.9972\n"
     ]
    },
    {
     "data": {
      "text/plain": [
       "<tensorflow.python.keras.callbacks.History at 0x7fc4f7d9efd0>"
      ]
     },
     "execution_count": 15,
     "metadata": {},
     "output_type": "execute_result"
    }
   ],
   "source": [
    "model.fit(x_train, y_train, batch_size=128, epochs=15, verbose=1)"
   ]
  },
  {
   "cell_type": "code",
   "execution_count": 16,
   "id": "e85ba4bc",
   "metadata": {},
   "outputs": [],
   "source": [
    "model.save_weights('model.h5')\n",
    "model.load_weights('model.h5')"
   ]
  },
  {
   "cell_type": "markdown",
   "id": "dce95da5",
   "metadata": {},
   "source": [
    "# Распознание реальных цифр"
   ]
  },
  {
   "cell_type": "code",
   "execution_count": 17,
   "id": "f4244113",
   "metadata": {},
   "outputs": [
    {
     "data": {
      "image/png": "[encoded data removed]",
      "text/plain": [
       "<Figure size 432x288 with 1 Axes>"
      ]
     },
     "metadata": {
      "needs_background": "light"
     },
     "output_type": "display_data"
    }
   ],
   "source": [
    "n_rec = 1235 #Номер тестовой цифры, которую будем распознавать\n",
    "plt.imshow(Image.fromarray(x_test_org[n_rec]).convert('RGBA')) # Нарисуем картинку из тестового набора под номером n_rec\n",
    "plt.show()"
   ]
  },
  {
   "cell_type": "code",
   "execution_count": 18,
   "id": "6ec9b234",
   "metadata": {},
   "outputs": [],
   "source": [
    "x = x_test[n_rec]\n",
    "x = np.expand_dims(x, axis=0)\n",
    "prediction = model.predict(x)"
   ]
  },
  {
   "cell_type": "code",
   "execution_count": 19,
   "id": "9f8f5a83",
   "metadata": {},
   "outputs": [
    {
     "name": "stdout",
     "output_type": "stream",
     "text": [
      "[[2.87632154e-20 5.64727789e-13 4.46540450e-17 3.26675770e-11\n",
      "  3.96219084e-22 1.00000000e+00 2.14666762e-14 1.20617384e-17\n",
      "  9.73924136e-11 1.07229746e-11]]\n"
     ]
    }
   ],
   "source": [
    "print(prediction)"
   ]
  },
  {
   "cell_type": "code",
   "execution_count": 20,
   "id": "8ef47a82",
   "metadata": {},
   "outputs": [
    {
     "name": "stdout",
     "output_type": "stream",
     "text": [
      "5\n"
     ]
    }
   ],
   "source": [
    "prediction = np.argmax(prediction)\n",
    "print(prediction)"
   ]
  },
  {
   "cell_type": "code",
   "execution_count": 21,
   "id": "cd911f01",
   "metadata": {},
   "outputs": [
    {
     "name": "stdout",
     "output_type": "stream",
     "text": [
      "5\n"
     ]
    }
   ],
   "source": [
    "print(y_test_org[n_rec])"
   ]
  }
 ],
 "metadata": {
  "kernelspec": {
   "display_name": "Python 3 (ipykernel)",
   "language": "python",
   "name": "python3"
  },
  "language_info": {
   "codemirror_mode": {
    "name": "ipython",
    "version": 3
   },
   "file_extension": ".py",
   "mimetype": "text/x-python",
   "name": "python",
   "nbconvert_exporter": "python",
   "pygments_lexer": "ipython3",
   "version": "3.9.5"
  }
 },
 "nbformat": 4,
 "nbformat_minor": 5
}
