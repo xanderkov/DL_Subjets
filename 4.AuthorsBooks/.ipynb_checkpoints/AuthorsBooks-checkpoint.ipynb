{
 "cells": [
  {
   "cell_type": "code",
   "execution_count": 5,
   "id": "7f2d7f82",
   "metadata": {},
   "outputs": [],
   "source": [
    "import numpy as np # Для работы с данными \n",
    "import pandas as pd # Для работы с таблицами\n",
    "import matplotlib.pyplot as plt # Для вывода графиков\n",
    "import os # Для работы с файлами\n",
    "%matplotlib inline\n",
    "\n",
    "from tensorflow.keras import utils # Для работы с категориальными данными\n",
    "from tensorflow.keras.models import Sequential # Полносвязная модель\n",
    "from tensorflow.keras.optimizers import Adam\n",
    "from tensorflow.keras.layers import Dense, Dropout, SpatialDropout1D, BatchNormalization, Embedding, Flatten, Activation # Слои для сети\n",
    "from tensorflow.keras.preprocessing.text import Tokenizer # Методы для работы с текстами и преобразования их в последовательности\n",
    "from tensorflow.keras.preprocessing.sequence import pad_sequences # Метод для работы с последовательностями\n",
    "\n",
    "from sklearn.preprocessing import LabelEncoder # Метод кодирования тестовых лейблов\n",
    "from sklearn.model_selection import train_test_split # Для разделения выборки на тестовую и обучающую\n",
    "import time # Импортируем библиотеку time\n",
    "import seaborn as sns # Импортируем библиотеку seaborn\n",
    "sns.set_style('darkgrid') # Устанавливаем стиль графиков"
   ]
  },
  {
   "cell_type": "code",
   "execution_count": 6,
   "id": "c438b82d",
   "metadata": {},
   "outputs": [],
   "source": [
    "def readText(fileName): # Объявляем функции для чтения файла. На вход отправляем путь к файлу\n",
    "  f = open(fileName, 'r')        # Задаем открытие нужного файла в режиме чтения\n",
    "  text = f.read()                # Читаем текст\n",
    "  text = text.replace(\"\\n\", \" \") # Переносы строки переводим в пробелы\n",
    "  \n",
    "  return text                    # Возвращаем текст файла\n",
    "\n",
    "className = [\"О. Генри\", \"Стругацкие\", \"Булгаков\", \"Саймак\", \"Фрай\", \"Брэдберри\"] # Объявляем интересующие нас классы\n",
    "nClasses = len(className) # Считаем количество классов"
   ]
  },
  {
   "cell_type": "code",
   "execution_count": 7,
   "id": "4facf686",
   "metadata": {},
   "outputs": [
    {
     "ename": "UnicodeDecodeError",
     "evalue": "'charmap' codec can't decode byte 0x98 in position 4477: character maps to <undefined>",
     "output_type": "error",
     "traceback": [
      "\u001b[1;31m---------------------------------------------------------------------------\u001b[0m",
      "\u001b[1;31mUnicodeDecodeError\u001b[0m                        Traceback (most recent call last)",
      "\u001b[1;32m<ipython-input-7-74a7c030a12e>\u001b[0m in \u001b[0;36m<module>\u001b[1;34m\u001b[0m\n\u001b[0;32m     13\u001b[0m \u001b[1;33m\u001b[0m\u001b[0m\n\u001b[0;32m     14\u001b[0m       \u001b[1;32mif\u001b[0m \u001b[1;34m'Обучающая'\u001b[0m \u001b[1;32min\u001b[0m \u001b[0mj\u001b[0m\u001b[1;33m:\u001b[0m \u001b[1;31m#Если в имени найденного класса есть строка \"Обучающая\"\u001b[0m\u001b[1;33m\u001b[0m\u001b[1;33m\u001b[0m\u001b[0m\n\u001b[1;32m---> 15\u001b[1;33m         \u001b[0mtrainText\u001b[0m\u001b[1;33m.\u001b[0m\u001b[0mappend\u001b[0m\u001b[1;33m(\u001b[0m\u001b[0mreadText\u001b[0m\u001b[1;33m(\u001b[0m\u001b[1;34m'texts/'\u001b[0m \u001b[1;33m+\u001b[0m \u001b[0mj\u001b[0m\u001b[1;33m)\u001b[0m\u001b[1;33m)\u001b[0m \u001b[1;31m#добавляем в обучающую выборку\u001b[0m\u001b[1;33m\u001b[0m\u001b[1;33m\u001b[0m\u001b[0m\n\u001b[0m\u001b[0;32m     16\u001b[0m         \u001b[0mprint\u001b[0m\u001b[1;33m(\u001b[0m\u001b[0mj\u001b[0m\u001b[1;33m,\u001b[0m \u001b[1;34m'добавлен в обучающую выборку'\u001b[0m\u001b[1;33m)\u001b[0m \u001b[1;31m#Выводим информацию\u001b[0m\u001b[1;33m\u001b[0m\u001b[1;33m\u001b[0m\u001b[0m\n\u001b[0;32m     17\u001b[0m       \u001b[1;32mif\u001b[0m \u001b[1;34m'Тестовая'\u001b[0m \u001b[1;32min\u001b[0m \u001b[0mj\u001b[0m\u001b[1;33m:\u001b[0m \u001b[1;31m#Если в имени найденного класса есть строка \"Тестовая\"\u001b[0m\u001b[1;33m\u001b[0m\u001b[1;33m\u001b[0m\u001b[0m\n",
      "\u001b[1;32m<ipython-input-6-0a89a19f6d72>\u001b[0m in \u001b[0;36mreadText\u001b[1;34m(fileName)\u001b[0m\n\u001b[0;32m      1\u001b[0m \u001b[1;32mdef\u001b[0m \u001b[0mreadText\u001b[0m\u001b[1;33m(\u001b[0m\u001b[0mfileName\u001b[0m\u001b[1;33m)\u001b[0m\u001b[1;33m:\u001b[0m \u001b[1;31m# Объявляем функции для чтения файла. На вход отправляем путь к файлу\u001b[0m\u001b[1;33m\u001b[0m\u001b[1;33m\u001b[0m\u001b[0m\n\u001b[0;32m      2\u001b[0m   \u001b[0mf\u001b[0m \u001b[1;33m=\u001b[0m \u001b[0mopen\u001b[0m\u001b[1;33m(\u001b[0m\u001b[0mfileName\u001b[0m\u001b[1;33m,\u001b[0m \u001b[1;34m'r'\u001b[0m\u001b[1;33m)\u001b[0m        \u001b[1;31m# Задаем открытие нужного файла в режиме чтения\u001b[0m\u001b[1;33m\u001b[0m\u001b[1;33m\u001b[0m\u001b[0m\n\u001b[1;32m----> 3\u001b[1;33m   \u001b[0mtext\u001b[0m \u001b[1;33m=\u001b[0m \u001b[0mf\u001b[0m\u001b[1;33m.\u001b[0m\u001b[0mread\u001b[0m\u001b[1;33m(\u001b[0m\u001b[1;33m)\u001b[0m                \u001b[1;31m# Читаем текст\u001b[0m\u001b[1;33m\u001b[0m\u001b[1;33m\u001b[0m\u001b[0m\n\u001b[0m\u001b[0;32m      4\u001b[0m   \u001b[0mtext\u001b[0m \u001b[1;33m=\u001b[0m \u001b[0mtext\u001b[0m\u001b[1;33m.\u001b[0m\u001b[0mreplace\u001b[0m\u001b[1;33m(\u001b[0m\u001b[1;34m\"\\n\"\u001b[0m\u001b[1;33m,\u001b[0m \u001b[1;34m\" \"\u001b[0m\u001b[1;33m)\u001b[0m \u001b[1;31m# Переносы строки переводим в пробелы\u001b[0m\u001b[1;33m\u001b[0m\u001b[1;33m\u001b[0m\u001b[0m\n\u001b[0;32m      5\u001b[0m \u001b[1;33m\u001b[0m\u001b[0m\n",
      "\u001b[1;32m~\\anaconda3\\envs\\gpu2\\lib\\encodings\\cp1251.py\u001b[0m in \u001b[0;36mdecode\u001b[1;34m(self, input, final)\u001b[0m\n\u001b[0;32m     21\u001b[0m \u001b[1;32mclass\u001b[0m \u001b[0mIncrementalDecoder\u001b[0m\u001b[1;33m(\u001b[0m\u001b[0mcodecs\u001b[0m\u001b[1;33m.\u001b[0m\u001b[0mIncrementalDecoder\u001b[0m\u001b[1;33m)\u001b[0m\u001b[1;33m:\u001b[0m\u001b[1;33m\u001b[0m\u001b[1;33m\u001b[0m\u001b[0m\n\u001b[0;32m     22\u001b[0m     \u001b[1;32mdef\u001b[0m \u001b[0mdecode\u001b[0m\u001b[1;33m(\u001b[0m\u001b[0mself\u001b[0m\u001b[1;33m,\u001b[0m \u001b[0minput\u001b[0m\u001b[1;33m,\u001b[0m \u001b[0mfinal\u001b[0m\u001b[1;33m=\u001b[0m\u001b[1;32mFalse\u001b[0m\u001b[1;33m)\u001b[0m\u001b[1;33m:\u001b[0m\u001b[1;33m\u001b[0m\u001b[1;33m\u001b[0m\u001b[0m\n\u001b[1;32m---> 23\u001b[1;33m         \u001b[1;32mreturn\u001b[0m \u001b[0mcodecs\u001b[0m\u001b[1;33m.\u001b[0m\u001b[0mcharmap_decode\u001b[0m\u001b[1;33m(\u001b[0m\u001b[0minput\u001b[0m\u001b[1;33m,\u001b[0m\u001b[0mself\u001b[0m\u001b[1;33m.\u001b[0m\u001b[0merrors\u001b[0m\u001b[1;33m,\u001b[0m\u001b[0mdecoding_table\u001b[0m\u001b[1;33m)\u001b[0m\u001b[1;33m[\u001b[0m\u001b[1;36m0\u001b[0m\u001b[1;33m]\u001b[0m\u001b[1;33m\u001b[0m\u001b[1;33m\u001b[0m\u001b[0m\n\u001b[0m\u001b[0;32m     24\u001b[0m \u001b[1;33m\u001b[0m\u001b[0m\n\u001b[0;32m     25\u001b[0m \u001b[1;32mclass\u001b[0m \u001b[0mStreamWriter\u001b[0m\u001b[1;33m(\u001b[0m\u001b[0mCodec\u001b[0m\u001b[1;33m,\u001b[0m\u001b[0mcodecs\u001b[0m\u001b[1;33m.\u001b[0m\u001b[0mStreamWriter\u001b[0m\u001b[1;33m)\u001b[0m\u001b[1;33m:\u001b[0m\u001b[1;33m\u001b[0m\u001b[1;33m\u001b[0m\u001b[0m\n",
      "\u001b[1;31mUnicodeDecodeError\u001b[0m: 'charmap' codec can't decode byte 0x98 in position 4477: character maps to <undefined>"
     ]
    }
   ],
   "source": [
    "#Загружаем обучающие тексты\n",
    "\n",
    "trainText = [] #Формируем обучающие тексты\n",
    "testText = [] #Формируем тестовые тексты\n",
    "\n",
    "#Формирование необходимо произвести следующим образом \n",
    "#Класс каждого i-ого эллемента в обучающей выборке должен соответствовать \n",
    "#классу каждого i-ого эллемента в тестовой выборке\n",
    "\n",
    "for i in className: #Проходим по каждому классу\n",
    "  for j in os.listdir('texts/'): #Проходим по каждому файлу в папке с текстами #\n",
    "    if i in j: #Проверяем, содержит ли файл j в названии имя класса i\n",
    "      \n",
    "      if 'Обучающая' in j: #Если в имени найденного класса есть строка \"Обучающая\" \n",
    "        trainText.append(readText('texts/' + j)) #добавляем в обучающую выборку\n",
    "        print(j, 'добавлен в обучающую выборку') #Выводим информацию\n",
    "      if 'Тестовая' in j: #Если в имени найденного класса есть строка \"Тестовая\"\n",
    "        testText.append(readText('texts/' + j)) #добавляем в обучающую выборку\n",
    "        print(j, 'добавлен в тестовую выборку') #Выводим информацию\n",
    "  print()"
   ]
  },
  {
   "cell_type": "code",
   "execution_count": null,
   "id": "c302f5e6",
   "metadata": {},
   "outputs": [],
   "source": []
  }
 ],
 "metadata": {
  "kernelspec": {
   "display_name": "gpu2",
   "language": "python",
   "name": "gpu2"
  },
  "language_info": {
   "codemirror_mode": {
    "name": "ipython",
    "version": 3
   },
   "file_extension": ".py",
   "mimetype": "text/x-python",
   "name": "python",
   "nbconvert_exporter": "python",
   "pygments_lexer": "ipython3",
   "version": "3.9.6"
  }
 },
 "nbformat": 4,
 "nbformat_minor": 5
}
