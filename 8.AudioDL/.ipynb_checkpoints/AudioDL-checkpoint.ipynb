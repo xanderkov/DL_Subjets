{
 "cells": [
  {
   "cell_type": "code",
   "execution_count": 18,
   "id": "2fe8a4a0",
   "metadata": {},
   "outputs": [],
   "source": [
    "#Подключаем библиотеки\n",
    "from tensorflow.keras.utils import to_categorical #Для представления в формате one_hot_encoding\n",
    "import os #Работа с папками и файлами\n",
    "import librosa #Параметризация аудио\n",
    "import numpy as np #Numpy массивы\n",
    "import matplotlib.pyplot as plt #Отображение графиков\n",
    "from tensorflow.keras import utils\n",
    "from tensorflow.keras.optimizers import Adam, RMSprop #Подключаем оптимизаторы\n",
    "from tensorflow.keras.models import Sequential, Model #Модели keras\n",
    "from tensorflow.keras.layers import concatenate, Input, Dense, Dropout, BatchNormalization, Flatten, Conv1D, Conv2D, LSTM, MaxPooling1D, MaxPooling2D, GlobalMaxPooling2D #Базовые слои\n",
    "from sklearn.model_selection import train_test_split #Разбиение на обучающую и проверочную выборку\n",
    "from sklearn.preprocessing import LabelEncoder, StandardScaler #Для нормировки данных"
   ]
  },
  {
   "cell_type": "code",
   "execution_count": 6,
   "id": "3d73904b",
   "metadata": {},
   "outputs": [],
   "source": [
    "genres = os.listdir('../../Base/genres')"
   ]
  },
  {
   "cell_type": "code",
   "execution_count": 7,
   "id": "69a82a84",
   "metadata": {},
   "outputs": [],
   "source": [
    "# Функция параметризации аудио\n",
    "def get_features_2d(y, sr):\n",
    "\n",
    "  # Получаем различные параметры аудио\n",
    "  chroma_stft = librosa.feature.chroma_stft(y=y, sr=sr)     # Частота цветности\n",
    "  rmse = librosa.feature.rms(y=y)                          # Среднеквадратичная амплитуда\n",
    "  spec_cent = librosa.feature.spectral_centroid(y=y, sr=sr) # Спектральный центроид\n",
    "  mfcc = librosa.feature.mfcc(y=y, sr=sr)                   # Мел спектральные коэффициенты\n",
    "  \n",
    "  # Возвращаем получившийся список\n",
    "  return mfcc, chroma_stft, rmse, spec_cent"
   ]
  },
  {
   "cell_type": "code",
   "execution_count": 8,
   "id": "9af1f8c9",
   "metadata": {},
   "outputs": [
    {
     "name": "stdout",
     "output_type": "stream",
     "text": [
      "Жанр blues готов -> 26c\n"
     ]
    },
    {
     "name": "stderr",
     "output_type": "stream",
     "text": [
      "C:\\Users\\xander\\anaconda3\\envs\\gpu2\\lib\\site-packages\\librosa\\core\\pitch.py:153: UserWarning: Trying to estimate tuning from empty frequency set.\n",
      "  warnings.warn(\"Trying to estimate tuning from empty frequency set.\")\n"
     ]
    },
    {
     "name": "stdout",
     "output_type": "stream",
     "text": [
      "Жанр classical готов -> 28c\n",
      "Жанр country готов -> 28c\n",
      "Жанр disco готов -> 29c\n",
      "Жанр hiphop готов -> 31c\n",
      "Жанр jazz готов -> 28c\n",
      "Жанр metal готов -> 26c\n",
      "Жанр pop готов -> 27c\n",
      "Жанр reggae готов -> 26c\n",
      "Жанр rock готов -> 26c\n"
     ]
    }
   ],
   "source": [
    "import time # Для подсчёта времени на обработку одного жанра\n",
    "\n",
    "# Формируем обучающую выборку\n",
    "# Создаём пустые листы\n",
    "X_train_mfcc = []\n",
    "X_train_chroma_stft = []\n",
    "X_train_rmse = []\n",
    "X_train_spec_cent = []\n",
    "Y_train = []\n",
    "\n",
    "# Запоминаем время старта формирования выборки\n",
    "curr_time = time.time()\n",
    "\n",
    "# Длина каждой записи первые 20 секунд\n",
    "seconds = 20\n",
    "\n",
    "# Проходим по всем жарнам\n",
    "for i in range(len(genres)):\n",
    "  g = genres[i] # Берём текущий жанр\n",
    "\n",
    "  # Проходим по файлам папки, соответствующей текущему жанру\n",
    "  for filename in os.listdir(f'../../Base/genres/{g}'):\n",
    "\n",
    "    # Получаем имя песни\n",
    "    songname = f'../../Base/genres/{g}/{filename}'\n",
    "\n",
    "    # Загружаем в y аудиосигнал\n",
    "    # Используем первые %seconds% секунд аудио\n",
    "    y, sr = librosa.load(songname, mono=True, duration=seconds)\n",
    "\n",
    "    # Превращаем сигнал в параметризованные данные\n",
    "    for sec in range(seconds):\n",
    "      mfcc, chroma_stft, rmse, spec_cent = get_features_2d(y[sec*sr:(sec+1)*sr], sr)\n",
    "      X_train_mfcc.append(mfcc)\n",
    "      X_train_chroma_stft.append(chroma_stft)\n",
    "      X_train_rmse.append(rmse)\n",
    "      X_train_spec_cent.append(spec_cent)\n",
    "      Y_train.append(utils.to_categorical(i, len(genres)))\n",
    "\n",
    "  # Выводим информацию о готовности обработки базы\n",
    "  print(\"Жанр \", g, \" готов -> \", round(time.time() - curr_time), \"c\", sep=\"\")\n",
    "  curr_time = time.time()\n",
    "\n",
    "# Превращаем обучающую выборку на numpy массивы\n",
    "X_train_mfcc = np.array(X_train_mfcc)\n",
    "X_train_chroma_stft = np.array(X_train_chroma_stft)\n",
    "X_train_rmse = np.array(X_train_rmse)\n",
    "X_train_spec_cent = np.array(X_train_spec_cent)\n",
    "Y_train = np.array(Y_train)"
   ]
  },
  {
   "cell_type": "code",
   "execution_count": 9,
   "id": "9d6b5ec5",
   "metadata": {},
   "outputs": [],
   "source": [
    "# Решейпим данные для нейронки\n",
    "X_train_mfcc = X_train_mfcc.reshape(X_train_mfcc.shape[0], X_train_mfcc.shape[1], X_train_mfcc.shape[2], 1)\n",
    "X_train_chroma_stft = X_train_chroma_stft.reshape(X_train_chroma_stft.shape[0], X_train_chroma_stft.shape[1], X_train_chroma_stft.shape[2], 1)\n",
    "X_train_rmse = X_train_rmse.reshape(X_train_rmse.shape[0], X_train_rmse.shape[2], X_train_rmse.shape[1])\n",
    "X_train_spec_cent = X_train_spec_cent.reshape(X_train_spec_cent.shape[0], X_train_spec_cent.shape[2], X_train_spec_cent.shape[1])"
   ]
  },
  {
   "cell_type": "code",
   "execution_count": 10,
   "id": "63ad032b",
   "metadata": {},
   "outputs": [
    {
     "name": "stdout",
     "output_type": "stream",
     "text": [
      "(20000, 20, 44, 1)\n",
      "(20000, 12, 44, 1)\n",
      "(20000, 44, 1)\n",
      "(20000, 44, 1)\n"
     ]
    }
   ],
   "source": [
    "print(X_train_mfcc.shape)\n",
    "print(X_train_chroma_stft.shape)\n",
    "print(X_train_rmse.shape)\n",
    "print(X_train_spec_cent.shape)"
   ]
  },
  {
   "cell_type": "code",
   "execution_count": 11,
   "id": "ac4d2ce2",
   "metadata": {},
   "outputs": [],
   "source": [
    "val_mask = np.random.sample(20000)\n",
    "train_mask = val_mask < 0.9\n",
    "val_mask = val_mask >= 0.9"
   ]
  },
  {
   "cell_type": "code",
   "execution_count": 12,
   "id": "da291f15",
   "metadata": {},
   "outputs": [],
   "source": [
    "# Функция нормализации\n",
    "def scale(X):\n",
    "  min_X = X.min()\n",
    "  max_X = X.max()\n",
    "  X = (X - min_X) / (max_X - min_X)\n",
    "  return X"
   ]
  },
  {
   "cell_type": "code",
   "execution_count": 13,
   "id": "ba6bb513",
   "metadata": {},
   "outputs": [],
   "source": [
    "# Нормализация\n",
    "X_train_mfcc_scaled = scale(X_train_mfcc)\n",
    "X_train_chroma_stft_scaled = scale(X_train_chroma_stft)\n",
    "X_train_rmse_scaled = scale(X_train_rmse)\n",
    "X_train_spec_cent_scaled = scale(X_train_spec_cent)"
   ]
  },
  {
   "cell_type": "markdown",
   "id": "b2ec5d3f",
   "metadata": {},
   "source": [
    "## Создаём нейронку"
   ]
  },
  {
   "cell_type": "code",
   "execution_count": 19,
   "id": "89f69b74",
   "metadata": {},
   "outputs": [
    {
     "name": "stderr",
     "output_type": "stream",
     "text": [
      "C:\\Users\\xander\\anaconda3\\envs\\gpu2\\lib\\site-packages\\tensorflow\\python\\keras\\optimizer_v2\\optimizer_v2.py:374: UserWarning: The `lr` argument is deprecated, use `learning_rate` instead.\n",
      "  warnings.warn(\n"
     ]
    }
   ],
   "source": [
    "input_mfcc = Input((20, 44, 1))        # Входной слой для mfcc\n",
    "input_chroma_stft = Input((12, 44, 1)) # Входной слой для chroma_stft\n",
    "input_rmse = Input((44, 1))            # Входной слой для rmse\n",
    "input_spec_cent = Input((44, 1))       # Входной слой для spec_cent\n",
    "\n",
    "# Блок mfcc\n",
    "x1 = BatchNormalization()(input_mfcc)\n",
    "x1 = Conv2D(256, (3,3), padding=\"same\", activation=\"elu\")(x1)\n",
    "x1 = Conv2D(256, (3,3), padding=\"same\", activation=\"elu\")(x1)\n",
    "x1 = MaxPooling2D(2)(x1)\n",
    "x1 = Conv2D(128, (3,3), padding=\"same\", activation=\"elu\")(x1)\n",
    "x1 = Conv2D(128, (3,3), padding=\"same\", activation=\"elu\")(x1)\n",
    "x1 = MaxPooling2D(2)(x1)\n",
    "x1 = Conv2D(64, (3,3), padding=\"same\", activation=\"elu\")(x1)\n",
    "x1 = Conv2D(64, (3,3), padding=\"same\", activation=\"elu\")(x1)\n",
    "x1 = Flatten()(x1)\n",
    "\n",
    "# Блок chroma_stft\n",
    "x2 = BatchNormalization()(input_chroma_stft)\n",
    "x2 = Conv2D(256, (3,3), padding=\"same\", activation=\"elu\")(x2)\n",
    "x2 = Conv2D(256, (3,3), padding=\"same\", activation=\"elu\")(x2)\n",
    "x2_gmp_1 = GlobalMaxPooling2D()(x2)\n",
    "x2 = MaxPooling2D(2)(x2)\n",
    "x2 = Conv2D(128, (3,3), padding=\"same\", activation=\"elu\")(x2)\n",
    "x2 = Conv2D(128, (3,3), padding=\"same\", activation=\"elu\")(x2)\n",
    "x2_gmp_2 = GlobalMaxPooling2D()(x2)\n",
    "x2 = MaxPooling2D(2)(x2)\n",
    "x2 = Conv2D(64, (3,3), padding=\"same\", activation=\"elu\")(x2)\n",
    "x2 = Conv2D(64, (3,3), padding=\"same\", activation=\"elu\")(x2)\n",
    "x2_gmp_3 = GlobalMaxPooling2D()(x2)\n",
    "x2 = Flatten()(x2)\n",
    "\n",
    "# Блок rmse\n",
    "x3 = BatchNormalization()(input_rmse)\n",
    "x3 = Conv1D(256, 3, padding=\"same\", activation=\"elu\")(x3)\n",
    "x3 = Conv1D(256, 3, padding=\"same\", activation=\"elu\")(x3)\n",
    "x3 = MaxPooling1D(2)(x3)\n",
    "x3 = Conv1D(128, 3, padding=\"same\", activation=\"elu\")(x3)\n",
    "x3 = Conv1D(128, 3, padding=\"same\", activation=\"elu\")(x3)\n",
    "x3 = MaxPooling1D(2)(x3)\n",
    "x3 = Conv1D(64, 3, padding=\"same\", activation=\"elu\")(x3)\n",
    "x3 = Conv1D(64, 3, padding=\"same\", activation=\"elu\")(x3)\n",
    "x3 = Flatten()(x3)\n",
    "\n",
    "# Блок spec_cent\n",
    "x4 = BatchNormalization()(input_spec_cent)\n",
    "x4 = Conv1D(256, 3, padding=\"same\", activation=\"elu\")(x4)\n",
    "x4 = Conv1D(256, 3, padding=\"same\", activation=\"elu\")(x4)\n",
    "x4 = MaxPooling1D(2)(x4)\n",
    "x4 = Conv1D(128, 3, padding=\"same\", activation=\"elu\")(x4)\n",
    "x4 = Conv1D(128, 3, padding=\"same\", activation=\"elu\")(x4)\n",
    "x4 = MaxPooling1D(2)(x4)\n",
    "x4 = Conv1D(64, 3, padding=\"same\", activation=\"elu\")(x4)\n",
    "x4 = Conv1D(64, 3, padding=\"same\", activation=\"elu\")(x4)\n",
    "x4 = Flatten()(x4)\n",
    "\n",
    "# Объедияем все блоки\n",
    "x = concatenate([x1, x2, x3, x4, x2_gmp_1, x2_gmp_2, x2_gmp_3])\n",
    "\n",
    "# Полносвязные слои на выходе\n",
    "x = Dense(128, activation='elu')(x)\n",
    "x = Dense(10, activation='softmax')(x)\n",
    "\n",
    "model = Model([input_mfcc, input_chroma_stft, input_rmse, input_spec_cent], x)\n",
    "\n",
    "model.compile(optimizer=Adam(lr=1e-3),\n",
    "              loss='categorical_crossentropy',\n",
    "              metrics=['accuracy'])"
   ]
  },
  {
   "cell_type": "code",
   "execution_count": null,
   "id": "45431488",
   "metadata": {},
   "outputs": [
    {
     "name": "stdout",
     "output_type": "stream",
     "text": [
      "Epoch 1/30\n",
      "71/71 [==============================] - 37s 363ms/step - loss: 1.5036 - accuracy: 0.4816 - val_loss: 5.5197 - val_accuracy: 0.1331\n",
      "Epoch 2/30\n",
      "71/71 [==============================] - 19s 274ms/step - loss: 0.9372 - accuracy: 0.6751 - val_loss: 8.3325 - val_accuracy: 0.1281\n",
      "Epoch 3/30\n",
      "71/71 [==============================] - 20s 277ms/step - loss: 0.7178 - accuracy: 0.7479 - val_loss: 6.6351 - val_accuracy: 0.1466\n",
      "Epoch 4/30\n",
      " 2/71 [..............................] - ETA: 18s - loss: 0.5939 - accuracy: 0.7910"
     ]
    }
   ],
   "source": [
    "from tensorflow.keras.callbacks import ReduceLROnPlateau\n",
    "\n",
    "# Добавляем колбэк ReduceLROnPlateau для уменьшения шага обучения\n",
    "reduce_ = ReduceLROnPlateau(monitor='val_loss')\n",
    "\n",
    "# Обучаем модель\n",
    "history = model.fit([X_train_mfcc_scaled[train_mask], X_train_chroma_stft_scaled[train_mask], X_train_rmse_scaled[train_mask], X_train_spec_cent_scaled[train_mask]],\n",
    "                    Y_train[train_mask],\n",
    "                    epochs=30,\n",
    "                    batch_size=256,\n",
    "                    validation_data=([X_train_mfcc_scaled[val_mask], X_train_chroma_stft_scaled[val_mask], X_train_rmse_scaled[val_mask], X_train_spec_cent_scaled[val_mask]],\n",
    "                    Y_train[val_mask]),\n",
    "                    callbacks=[reduce_])\n",
    "\n",
    "plt.plot(history.history[\"accuracy\"])\n",
    "plt.plot(history.history[\"val_accuracy\"])\n",
    "plt.show()"
   ]
  },
  {
   "cell_type": "code",
   "execution_count": null,
   "id": "ed81e9ca",
   "metadata": {},
   "outputs": [],
   "source": []
  }
 ],
 "metadata": {
  "kernelspec": {
   "display_name": "gpu2",
   "language": "python",
   "name": "gpu2"
  },
  "language_info": {
   "codemirror_mode": {
    "name": "ipython",
    "version": 3
   },
   "file_extension": ".py",
   "mimetype": "text/x-python",
   "name": "python",
   "nbconvert_exporter": "python",
   "pygments_lexer": "ipython3",
   "version": "3.9.6"
  }
 },
 "nbformat": 4,
 "nbformat_minor": 5
}
